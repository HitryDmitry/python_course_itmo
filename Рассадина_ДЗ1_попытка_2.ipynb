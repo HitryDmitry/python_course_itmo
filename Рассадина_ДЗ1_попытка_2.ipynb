{
  "nbformat": 4,
  "nbformat_minor": 0,
  "metadata": {
    "colab": {
      "provenance": [],
      "toc_visible": true
    },
    "kernelspec": {
      "name": "python3",
      "display_name": "Python 3"
    },
    "language_info": {
      "name": "python"
    }
  },
  "cells": [
    {
      "cell_type": "code",
      "execution_count": null,
      "metadata": {
        "id": "KKqeB9VwHTuu"
      },
      "outputs": [],
      "source": [
        "class Chocolate:\n",
        "    \"\"\"шоколадный батончик\"\"\"\n",
        "    choco_count = 0\n",
        "\n",
        "    def init(self, price, topping='none'):\n",
        "        self.price = float(price)\n",
        "        if price < 1:\n",
        "            raise ValueError('Цена не может быть ниже 0')\n",
        "        self.topping = str(topping)\n",
        "        Chocolate.choco_count += 1\n",
        "\n",
        "    def show_my_chocolate(self):\n",
        "        if self.topping == 'none':\n",
        "            print('Обычный шоколадный батончик')\n",
        "        else:\n",
        "            print('Шоколадный батончик, добавка: {}'.format(self.topping))\n",
        "\n",
        "    def str(self):\n",
        "        return f'Шоколадный батончик, цена {self.price} рублей'\n",
        "\n",
        "\n",
        "choco1 = Chocolate(50, \"beer\")\n",
        "choco2 = Chocolate(25, )\n",
        "choco3 = Chocolate(105, \"couple of beer and some tonic\")\n",
        "\n",
        "choco1.show_my_chocolate()\n",
        "choco2.show_my_chocolate()\n",
        "choco3.show_my_chocolate()\n",
        "\n",
        "print(choco1)"
      ]
    }
  ]
}